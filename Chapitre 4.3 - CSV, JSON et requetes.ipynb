{
 "cells": [
  {
   "cell_type": "markdown",
   "metadata": {},
   "source": [
    "# Chapitre 4.3 - Les fichiers CSV, JSON et les requêtes\n",
    "\n",
    "---\n",
    "\n",
    "## 1. La structure du web : comment communique-t-on avec un serveur ?\n",
    "\n",
    "![Anatomie d'une communication HTTP](images/http.request.scheme.png)\n",
    "\n",
    "Lors d'une communication HTTP avec un serveur, la communication est scindable en deux : l'envoi de la requête et la réponse du serveur. Ces deux éléments de la communication répondent à un ensemble de standards très stricts permettant le fonctionnement du web tel que nous le connaissons.\n",
    "\n",
    "### 1.A. Anatomie d'une requête :\n",
    "\n",
    "![Anatomie d'une requête HTTP](images/http.request.request.png)\n",
    "\n",
    "### 1.B. Anatomie d'une réponse\n",
    "\n",
    "![Anatomie d'une réponse HTTP](images/http.request.response.png)"
   ]
  },
  {
   "cell_type": "markdown",
   "metadata": {},
   "source": [
    "## Faire des requêtes http en python : le module request\n",
    "\n",
    "http://docs.python-requests.org/en/master/\n",
    "\n",
    "```python\n",
    ">>> r = requests.get('https://api.github.com/user', auth=('user', 'pass'))\n",
    ">>> r.status_code\n",
    "200\n",
    ">>> r.headers['content-type']\n",
    "'application/json; charset=utf8'\n",
    ">>> r.encoding\n",
    "'utf-8'\n",
    ">>> r.text\n",
    "u'{\"type\":\"User\"...'\n",
    ">>> r.json()\n",
    "{u'private_gists': 419, u'total_private_repos': 77, ...}\n",
    "```\n",
    "\n",
    ">>> payload = {'key1': 'value1', 'key2': 'value2'}\n",
    ">>> r = requests.get('http://httpbin.org/get', params=payload)\n",
    "\n",
    "You can see that the URL has been correctly encoded by printing the URL:\n",
    "\n",
    ">>> print(r.url)\n",
    "http://httpbin.org/get?key2=value2&key1=value1\n",
    "\n",
    ">>> url = 'https://api.github.com/some/endpoint'\n",
    ">>> headers = {'user-agent': 'my-app/0.0.1'}\n",
    "\n",
    ">>> r = requests.get(url, headers=headers)\n",
    "\n",
    ">>> bad_r.raise_for_status()"
   ]
  },
  {
   "cell_type": "code",
   "execution_count": null,
   "metadata": {},
   "outputs": [],
   "source": [
    "import requests \n",
    "\n",
    "def scope_content(url):\n",
    "    print(\"Fetching: \" + url)\n",
    "    r = requests.get(url)\n",
    "    data = r.json()\n",
    "    simplified = []\n",
    "\n",
    "    for item in data[\"data\"]:\n",
    "        try:\n",
    "            # fetch the ID and first description...\n",
    "            identifier = item[\"id\"]\n",
    "            desc = item[\"attributes\"][\"descriptions\"][0]\n",
    "            name = desc[\"name\"]\n",
    "            scopecontent = desc[\"scopeAndContent\"]\n",
    "            simplified.append((identifier, scopecontent, name))\n",
    "        except (IndexError, KeyError) as e:\n",
    "            print(e)\n",
    "            # no description or scope and content found... skipping...\n",
    "            pass\n",
    "\n",
    "    # fetch the next page of data...\n",
    "    if data.get(\"links\") and data[\"links\"].get(\"next\"):\n",
    "        simplified += scope_content(data[\"links\"][\"next\"])\n",
    "    return simplified\n",
    "\n",
    "scope_content(\"https://portal.ehri-project.eu/api/v1/search?type=DocumentaryUnit&q=Potato\")"
   ]
  },
  {
   "cell_type": "markdown",
   "metadata": {},
   "source": [
    "##### Exercice de fin de chapitre\n",
    "\n",
    "1. Ouvrir http://gallica.bnf.fr/iiif/ark:/12148/btv1b84259980/manifest.json\n",
    "2. Comprendre le format de http://gallica.bnf.fr/iiif/ark:/12148/btv1b84259980/manifest.json\n",
    "3. En Python, faire une fonction qui prend un identifiant ark BNF et qui:\n",
    "    1. Affiche l'ensemble des métadonnées sur l'objet décrit en JSON\n",
    "    2. Génère un fichier CSV avec les colonnes `Numéro | Nom de Page | Lien image | Largeur | Longueur` en fonction d'un argument `nom_csv`"
   ]
  },
  {
   "cell_type": "code",
   "execution_count": null,
   "metadata": {},
   "outputs": [],
   "source": [
    "def iiif_csv(ark, nom_csv):\n",
    "    colonnes = [\"Numéro\", \"Nom de Page\", \"Lien image\", \"Largeur\", \"Longueur\"]\n",
    "    # Complétez avec la documentation\n",
    "    return None\n",
    "\n",
    "# Testez le code ici\n",
    "iiif_csv(\"ark:/12148/btv1b84259980\", \"pages.csv\")"
   ]
  }
 ],
 "metadata": {
  "kernelspec": {
   "display_name": "Python 3",
   "language": "python",
   "name": "python3"
  },
  "language_info": {
   "codemirror_mode": {
    "name": "ipython",
    "version": 3
   },
   "file_extension": ".py",
   "mimetype": "text/x-python",
   "name": "python",
   "nbconvert_exporter": "python",
   "pygments_lexer": "ipython3",
   "version": "3.5.2"
  }
 },
 "nbformat": 4,
 "nbformat_minor": 2
}
